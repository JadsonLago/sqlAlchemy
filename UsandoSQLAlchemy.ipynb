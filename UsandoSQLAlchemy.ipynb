{
  "nbformat": 4,
  "nbformat_minor": 0,
  "metadata": {
    "colab": {
      "provenance": [],
      "mount_file_id": "1vjgdkkPYqrqZwbTTBSZy7JCtw_aPHaKc",
      "authorship_tag": "ABX9TyOordhTR36W8ErUSZbcaI+k",
      "include_colab_link": true
    },
    "kernelspec": {
      "name": "python3",
      "display_name": "Python 3"
    },
    "language_info": {
      "name": "python"
    }
  },
  "cells": [
    {
      "cell_type": "markdown",
      "metadata": {
        "id": "view-in-github",
        "colab_type": "text"
      },
      "source": [
        "<a href=\"https://colab.research.google.com/github/JadsonLago/sqlAlchemy/blob/main/UsandoSQLAlchemy.ipynb\" target=\"_parent\"><img src=\"https://colab.research.google.com/assets/colab-badge.svg\" alt=\"Open In Colab\"/></a>"
      ]
    },
    {
      "cell_type": "code",
      "execution_count": 36,
      "metadata": {
        "colab": {
          "base_uri": "https://localhost:8080/"
        },
        "id": "kLeGJUI4unHD",
        "outputId": "1f06bed2-833d-4cc3-8671-019a1cbbe9de"
      },
      "outputs": [
        {
          "output_type": "stream",
          "name": "stdout",
          "text": [
            "Requirement already satisfied: sqlalchemy in /usr/local/lib/python3.10/dist-packages (2.0.20)\n",
            "Requirement already satisfied: typing-extensions>=4.2.0 in /usr/local/lib/python3.10/dist-packages (from sqlalchemy) (4.5.0)\n",
            "Requirement already satisfied: greenlet!=0.4.17 in /usr/local/lib/python3.10/dist-packages (from sqlalchemy) (2.0.2)\n"
          ]
        }
      ],
      "source": [
        "!pip install sqlalchemy\n"
      ]
    },
    {
      "cell_type": "code",
      "source": [
        "import sqlalchemy"
      ],
      "metadata": {
        "id": "ZoS64HAau__a"
      },
      "execution_count": 37,
      "outputs": []
    },
    {
      "cell_type": "code",
      "source": [
        "sqlalchemy.__version__"
      ],
      "metadata": {
        "colab": {
          "base_uri": "https://localhost:8080/",
          "height": 35
        },
        "id": "yJIOtSxFvxpC",
        "outputId": "d67f0165-a638-49c6-85c7-d7c0dd04121d"
      },
      "execution_count": 38,
      "outputs": [
        {
          "output_type": "execute_result",
          "data": {
            "text/plain": [
              "'2.0.20'"
            ],
            "application/vnd.google.colaboratory.intrinsic+json": {
              "type": "string"
            }
          },
          "metadata": {},
          "execution_count": 38
        }
      ]
    },
    {
      "cell_type": "markdown",
      "source": [
        "### **Conectando ao banco de dados**"
      ],
      "metadata": {
        "id": "fvBift-1vJgQ"
      }
    },
    {
      "cell_type": "code",
      "source": [
        "engine = sqlalchemy.create_engine('sqlite:///enterprise.db', echo=True)"
      ],
      "metadata": {
        "id": "ehwXKV44vNtQ"
      },
      "execution_count": 39,
      "outputs": []
    },
    {
      "cell_type": "markdown",
      "source": [
        "### **Declarando o mapeamento**"
      ],
      "metadata": {
        "id": "8hsRJb2lxWWS"
      }
    },
    {
      "cell_type": "code",
      "source": [
        "from sqlalchemy.orm import declarative_base\n",
        "from sqlalchemy import Column, Integer, String\n"
      ],
      "metadata": {
        "id": "iNv8ydqJweX7"
      },
      "execution_count": 40,
      "outputs": []
    },
    {
      "cell_type": "code",
      "source": [
        "Base = declarative_base()"
      ],
      "metadata": {
        "id": "sxrMvSZSwuf8"
      },
      "execution_count": 41,
      "outputs": []
    },
    {
      "cell_type": "code",
      "source": [
        "# @title Estrutura da classe (tabela) User\n",
        "class User(Base):\n",
        "    __tablename__='users' #Obrigatório\n",
        "    #Colunas da tabela\n",
        "    id = Column(Integer, primary_key=True)#Obrigatório\n",
        "    name = Column(String(50))\n",
        "    fullname = Column(String(50))\n",
        "    age = Column(Integer)\n",
        "\n",
        "    def __repr__(self): #Método add para formatar informações salva em memória\n",
        "        return \"<User(name={}, fullname={}, age={})>\".format(\n",
        "            self.name, self.fullname, self.age)"
      ],
      "metadata": {
        "id": "vPGxSO1cyWP0"
      },
      "execution_count": 42,
      "outputs": []
    },
    {
      "cell_type": "markdown",
      "source": [
        "## **Criar a tabela no banco de dados**"
      ],
      "metadata": {
        "id": "OtkBWNp_z-lD"
      }
    },
    {
      "cell_type": "code",
      "source": [
        "Base.metadata.create_all(engine)"
      ],
      "metadata": {
        "colab": {
          "base_uri": "https://localhost:8080/"
        },
        "id": "76hMz4mu0HD0",
        "outputId": "1bf298b2-6449-4a73-9439-6113f7b10783"
      },
      "execution_count": 43,
      "outputs": [
        {
          "output_type": "stream",
          "name": "stdout",
          "text": [
            "2023-09-24 03:10:38,298 INFO sqlalchemy.engine.Engine BEGIN (implicit)\n"
          ]
        },
        {
          "output_type": "stream",
          "name": "stderr",
          "text": [
            "INFO:sqlalchemy.engine.Engine:BEGIN (implicit)\n"
          ]
        },
        {
          "output_type": "stream",
          "name": "stdout",
          "text": [
            "2023-09-24 03:10:38,301 INFO sqlalchemy.engine.Engine PRAGMA main.table_info(\"users\")\n"
          ]
        },
        {
          "output_type": "stream",
          "name": "stderr",
          "text": [
            "INFO:sqlalchemy.engine.Engine:PRAGMA main.table_info(\"users\")\n"
          ]
        },
        {
          "output_type": "stream",
          "name": "stdout",
          "text": [
            "2023-09-24 03:10:38,304 INFO sqlalchemy.engine.Engine [raw sql] ()\n"
          ]
        },
        {
          "output_type": "stream",
          "name": "stderr",
          "text": [
            "INFO:sqlalchemy.engine.Engine:[raw sql] ()\n"
          ]
        },
        {
          "output_type": "stream",
          "name": "stdout",
          "text": [
            "2023-09-24 03:10:38,307 INFO sqlalchemy.engine.Engine PRAGMA temp.table_info(\"users\")\n"
          ]
        },
        {
          "output_type": "stream",
          "name": "stderr",
          "text": [
            "INFO:sqlalchemy.engine.Engine:PRAGMA temp.table_info(\"users\")\n"
          ]
        },
        {
          "output_type": "stream",
          "name": "stdout",
          "text": [
            "2023-09-24 03:10:38,310 INFO sqlalchemy.engine.Engine [raw sql] ()\n"
          ]
        },
        {
          "output_type": "stream",
          "name": "stderr",
          "text": [
            "INFO:sqlalchemy.engine.Engine:[raw sql] ()\n"
          ]
        },
        {
          "output_type": "stream",
          "name": "stdout",
          "text": [
            "2023-09-24 03:10:38,312 INFO sqlalchemy.engine.Engine \n",
            "CREATE TABLE users (\n",
            "\tid INTEGER NOT NULL, \n",
            "\tname VARCHAR(50), \n",
            "\tfullname VARCHAR(50), \n",
            "\tage INTEGER, \n",
            "\tPRIMARY KEY (id)\n",
            ")\n",
            "\n",
            "\n"
          ]
        },
        {
          "output_type": "stream",
          "name": "stderr",
          "text": [
            "INFO:sqlalchemy.engine.Engine:\n",
            "CREATE TABLE users (\n",
            "\tid INTEGER NOT NULL, \n",
            "\tname VARCHAR(50), \n",
            "\tfullname VARCHAR(50), \n",
            "\tage INTEGER, \n",
            "\tPRIMARY KEY (id)\n",
            ")\n",
            "\n",
            "\n"
          ]
        },
        {
          "output_type": "stream",
          "name": "stdout",
          "text": [
            "2023-09-24 03:10:38,316 INFO sqlalchemy.engine.Engine [no key 0.00416s] ()\n"
          ]
        },
        {
          "output_type": "stream",
          "name": "stderr",
          "text": [
            "INFO:sqlalchemy.engine.Engine:[no key 0.00416s] ()\n"
          ]
        },
        {
          "output_type": "stream",
          "name": "stdout",
          "text": [
            "2023-09-24 03:10:38,332 INFO sqlalchemy.engine.Engine COMMIT\n"
          ]
        },
        {
          "output_type": "stream",
          "name": "stderr",
          "text": [
            "INFO:sqlalchemy.engine.Engine:COMMIT\n"
          ]
        }
      ]
    },
    {
      "cell_type": "markdown",
      "source": [
        "## **Criar instâncias da classe**"
      ],
      "metadata": {
        "id": "vTxtm48G0v27"
      }
    },
    {
      "cell_type": "code",
      "source": [
        "user = User(name='Enzo', fullname='Francisco Enzo', age = 20)"
      ],
      "metadata": {
        "id": "DkncPK4O023U"
      },
      "execution_count": 44,
      "outputs": []
    },
    {
      "cell_type": "code",
      "source": [
        "user.name\n"
      ],
      "metadata": {
        "colab": {
          "base_uri": "https://localhost:8080/",
          "height": 35
        },
        "id": "TUFk6L3X1Jz6",
        "outputId": "57a7ff91-0edc-4d47-e501-02aa36ff1f5f"
      },
      "execution_count": 45,
      "outputs": [
        {
          "output_type": "execute_result",
          "data": {
            "text/plain": [
              "'Enzo'"
            ],
            "application/vnd.google.colaboratory.intrinsic+json": {
              "type": "string"
            }
          },
          "metadata": {},
          "execution_count": 45
        }
      ]
    },
    {
      "cell_type": "code",
      "source": [
        "user.fullname\n"
      ],
      "metadata": {
        "colab": {
          "base_uri": "https://localhost:8080/",
          "height": 35
        },
        "id": "y--QXHX41Y-z",
        "outputId": "ffb3b2a3-814f-4497-eb52-b901ebd2fd1d"
      },
      "execution_count": 46,
      "outputs": [
        {
          "output_type": "execute_result",
          "data": {
            "text/plain": [
              "'Francisco Enzo'"
            ],
            "application/vnd.google.colaboratory.intrinsic+json": {
              "type": "string"
            }
          },
          "metadata": {},
          "execution_count": 46
        }
      ]
    },
    {
      "cell_type": "markdown",
      "source": [
        "## **Criar uma sessão**"
      ],
      "metadata": {
        "id": "tifxoVEO2Pvc"
      }
    },
    {
      "cell_type": "code",
      "source": [
        "from sqlalchemy.orm import sessionmaker"
      ],
      "metadata": {
        "id": "vRMRuXeJ2V0r"
      },
      "execution_count": 47,
      "outputs": []
    },
    {
      "cell_type": "code",
      "source": [
        "Session = sessionmaker(bind=engine)\n",
        "Session"
      ],
      "metadata": {
        "colab": {
          "base_uri": "https://localhost:8080/"
        },
        "id": "pdr461J__me3",
        "outputId": "8fef7c82-c4ac-4923-a909-53e0e46c2e95"
      },
      "execution_count": 48,
      "outputs": [
        {
          "output_type": "execute_result",
          "data": {
            "text/plain": [
              "sessionmaker(class_='Session', bind=Engine(sqlite:///enterprise.db), autoflush=True, expire_on_commit=True)"
            ]
          },
          "metadata": {},
          "execution_count": 48
        }
      ]
    },
    {
      "cell_type": "code",
      "source": [
        "session = Session()"
      ],
      "metadata": {
        "id": "AifsRjyjDQWh"
      },
      "execution_count": 49,
      "outputs": []
    },
    {
      "cell_type": "markdown",
      "source": [
        "## **Adicionar objetos (INSERT)**"
      ],
      "metadata": {
        "id": "EUiXb_tVDdnd"
      }
    },
    {
      "cell_type": "code",
      "source": [
        "session.add(user)"
      ],
      "metadata": {
        "id": "u8ko6xDoEwwd"
      },
      "execution_count": 50,
      "outputs": []
    },
    {
      "cell_type": "code",
      "source": [
        "session.commit()"
      ],
      "metadata": {
        "colab": {
          "base_uri": "https://localhost:8080/"
        },
        "id": "gNe8p4GyD1oq",
        "outputId": "fac92a2f-5cba-45f2-c8c8-3dfa2f2aa92f"
      },
      "execution_count": 51,
      "outputs": [
        {
          "output_type": "stream",
          "name": "stdout",
          "text": [
            "2023-09-24 03:10:38,386 INFO sqlalchemy.engine.Engine BEGIN (implicit)\n"
          ]
        },
        {
          "output_type": "stream",
          "name": "stderr",
          "text": [
            "INFO:sqlalchemy.engine.Engine:BEGIN (implicit)\n"
          ]
        },
        {
          "output_type": "stream",
          "name": "stdout",
          "text": [
            "2023-09-24 03:10:38,390 INFO sqlalchemy.engine.Engine INSERT INTO users (name, fullname, age) VALUES (?, ?, ?)\n"
          ]
        },
        {
          "output_type": "stream",
          "name": "stderr",
          "text": [
            "INFO:sqlalchemy.engine.Engine:INSERT INTO users (name, fullname, age) VALUES (?, ?, ?)\n"
          ]
        },
        {
          "output_type": "stream",
          "name": "stdout",
          "text": [
            "2023-09-24 03:10:38,393 INFO sqlalchemy.engine.Engine [generated in 0.00333s] ('Enzo', 'Francisco Enzo', 20)\n"
          ]
        },
        {
          "output_type": "stream",
          "name": "stderr",
          "text": [
            "INFO:sqlalchemy.engine.Engine:[generated in 0.00333s] ('Enzo', 'Francisco Enzo', 20)\n"
          ]
        },
        {
          "output_type": "stream",
          "name": "stdout",
          "text": [
            "2023-09-24 03:10:38,396 INFO sqlalchemy.engine.Engine COMMIT\n"
          ]
        },
        {
          "output_type": "stream",
          "name": "stderr",
          "text": [
            "INFO:sqlalchemy.engine.Engine:COMMIT\n"
          ]
        }
      ]
    },
    {
      "cell_type": "code",
      "source": [
        "session.add_all([\n",
        "    User(name='Valentina', fullname='Maria Valentina', age=23),\n",
        "    User(name='Antonio', fullname='Antonio da Paixão', age=85),\n",
        "    User(name='Alice', fullname='Alice Maria Cruz', age=53),\n",
        "    User(name='Carlos', fullname='Carlos Peixoto', age=28),\n",
        "    User(name='Virgínia', fullname='Virgínia Amaranto', age=22),\n",
        "    User(name='Claudionor', fullname='Claudionor Augusto', age=35),\n",
        "    User(name='Cássia', fullname='Cássia Prado', age=37),\n",
        "    User(name='Eunice', fullname='Eunice Maria', age=60),\n",
        "    User(name='Francisca', fullname='Francisca Moreira', age=52)\n",
        "])"
      ],
      "metadata": {
        "id": "fmAozryXFVzJ"
      },
      "execution_count": 52,
      "outputs": []
    },
    {
      "cell_type": "code",
      "source": [
        "session.commit()"
      ],
      "metadata": {
        "colab": {
          "base_uri": "https://localhost:8080/"
        },
        "id": "V4HGU1WCK5iU",
        "outputId": "a1b12753-b9b9-4cd3-f54b-987773e9ea85"
      },
      "execution_count": 53,
      "outputs": [
        {
          "output_type": "stream",
          "name": "stdout",
          "text": [
            "2023-09-24 03:11:42,536 INFO sqlalchemy.engine.Engine BEGIN (implicit)\n"
          ]
        },
        {
          "output_type": "stream",
          "name": "stderr",
          "text": [
            "INFO:sqlalchemy.engine.Engine:BEGIN (implicit)\n"
          ]
        },
        {
          "output_type": "stream",
          "name": "stdout",
          "text": [
            "2023-09-24 03:11:42,541 INFO sqlalchemy.engine.Engine INSERT INTO users (name, fullname, age) VALUES (?, ?, ?) RETURNING id\n"
          ]
        },
        {
          "output_type": "stream",
          "name": "stderr",
          "text": [
            "INFO:sqlalchemy.engine.Engine:INSERT INTO users (name, fullname, age) VALUES (?, ?, ?) RETURNING id\n"
          ]
        },
        {
          "output_type": "stream",
          "name": "stdout",
          "text": [
            "2023-09-24 03:11:42,545 INFO sqlalchemy.engine.Engine [generated in 0.00020s (insertmanyvalues) 1/9 (ordered; batch not supported)] ('Valentina', 'Maria Valentina', 23)\n"
          ]
        },
        {
          "output_type": "stream",
          "name": "stderr",
          "text": [
            "INFO:sqlalchemy.engine.Engine:[generated in 0.00020s (insertmanyvalues) 1/9 (ordered; batch not supported)] ('Valentina', 'Maria Valentina', 23)\n"
          ]
        },
        {
          "output_type": "stream",
          "name": "stdout",
          "text": [
            "2023-09-24 03:11:42,547 INFO sqlalchemy.engine.Engine INSERT INTO users (name, fullname, age) VALUES (?, ?, ?) RETURNING id\n"
          ]
        },
        {
          "output_type": "stream",
          "name": "stderr",
          "text": [
            "INFO:sqlalchemy.engine.Engine:INSERT INTO users (name, fullname, age) VALUES (?, ?, ?) RETURNING id\n"
          ]
        },
        {
          "output_type": "stream",
          "name": "stdout",
          "text": [
            "2023-09-24 03:11:42,549 INFO sqlalchemy.engine.Engine [insertmanyvalues 2/9 (ordered; batch not supported)] ('Antonio', 'Antonio da Paixão', 85)\n"
          ]
        },
        {
          "output_type": "stream",
          "name": "stderr",
          "text": [
            "INFO:sqlalchemy.engine.Engine:[insertmanyvalues 2/9 (ordered; batch not supported)] ('Antonio', 'Antonio da Paixão', 85)\n"
          ]
        },
        {
          "output_type": "stream",
          "name": "stdout",
          "text": [
            "2023-09-24 03:11:42,551 INFO sqlalchemy.engine.Engine INSERT INTO users (name, fullname, age) VALUES (?, ?, ?) RETURNING id\n"
          ]
        },
        {
          "output_type": "stream",
          "name": "stderr",
          "text": [
            "INFO:sqlalchemy.engine.Engine:INSERT INTO users (name, fullname, age) VALUES (?, ?, ?) RETURNING id\n"
          ]
        },
        {
          "output_type": "stream",
          "name": "stdout",
          "text": [
            "2023-09-24 03:11:42,553 INFO sqlalchemy.engine.Engine [insertmanyvalues 3/9 (ordered; batch not supported)] ('Alice', 'Alice Maria Cruz', 53)\n"
          ]
        },
        {
          "output_type": "stream",
          "name": "stderr",
          "text": [
            "INFO:sqlalchemy.engine.Engine:[insertmanyvalues 3/9 (ordered; batch not supported)] ('Alice', 'Alice Maria Cruz', 53)\n"
          ]
        },
        {
          "output_type": "stream",
          "name": "stdout",
          "text": [
            "2023-09-24 03:11:42,554 INFO sqlalchemy.engine.Engine INSERT INTO users (name, fullname, age) VALUES (?, ?, ?) RETURNING id\n"
          ]
        },
        {
          "output_type": "stream",
          "name": "stderr",
          "text": [
            "INFO:sqlalchemy.engine.Engine:INSERT INTO users (name, fullname, age) VALUES (?, ?, ?) RETURNING id\n"
          ]
        },
        {
          "output_type": "stream",
          "name": "stdout",
          "text": [
            "2023-09-24 03:11:42,556 INFO sqlalchemy.engine.Engine [insertmanyvalues 4/9 (ordered; batch not supported)] ('Carlos', 'Carlos Peixoto', 28)\n"
          ]
        },
        {
          "output_type": "stream",
          "name": "stderr",
          "text": [
            "INFO:sqlalchemy.engine.Engine:[insertmanyvalues 4/9 (ordered; batch not supported)] ('Carlos', 'Carlos Peixoto', 28)\n"
          ]
        },
        {
          "output_type": "stream",
          "name": "stdout",
          "text": [
            "2023-09-24 03:11:42,557 INFO sqlalchemy.engine.Engine INSERT INTO users (name, fullname, age) VALUES (?, ?, ?) RETURNING id\n"
          ]
        },
        {
          "output_type": "stream",
          "name": "stderr",
          "text": [
            "INFO:sqlalchemy.engine.Engine:INSERT INTO users (name, fullname, age) VALUES (?, ?, ?) RETURNING id\n"
          ]
        },
        {
          "output_type": "stream",
          "name": "stdout",
          "text": [
            "2023-09-24 03:11:42,559 INFO sqlalchemy.engine.Engine [insertmanyvalues 5/9 (ordered; batch not supported)] ('Virgínia', 'Virgínia Amaranto', 22)\n"
          ]
        },
        {
          "output_type": "stream",
          "name": "stderr",
          "text": [
            "INFO:sqlalchemy.engine.Engine:[insertmanyvalues 5/9 (ordered; batch not supported)] ('Virgínia', 'Virgínia Amaranto', 22)\n"
          ]
        },
        {
          "output_type": "stream",
          "name": "stdout",
          "text": [
            "2023-09-24 03:11:42,560 INFO sqlalchemy.engine.Engine INSERT INTO users (name, fullname, age) VALUES (?, ?, ?) RETURNING id\n"
          ]
        },
        {
          "output_type": "stream",
          "name": "stderr",
          "text": [
            "INFO:sqlalchemy.engine.Engine:INSERT INTO users (name, fullname, age) VALUES (?, ?, ?) RETURNING id\n"
          ]
        },
        {
          "output_type": "stream",
          "name": "stdout",
          "text": [
            "2023-09-24 03:11:42,561 INFO sqlalchemy.engine.Engine [insertmanyvalues 6/9 (ordered; batch not supported)] ('Claudionor', 'Claudionor Augusto', 35)\n"
          ]
        },
        {
          "output_type": "stream",
          "name": "stderr",
          "text": [
            "INFO:sqlalchemy.engine.Engine:[insertmanyvalues 6/9 (ordered; batch not supported)] ('Claudionor', 'Claudionor Augusto', 35)\n"
          ]
        },
        {
          "output_type": "stream",
          "name": "stdout",
          "text": [
            "2023-09-24 03:11:42,563 INFO sqlalchemy.engine.Engine INSERT INTO users (name, fullname, age) VALUES (?, ?, ?) RETURNING id\n"
          ]
        },
        {
          "output_type": "stream",
          "name": "stderr",
          "text": [
            "INFO:sqlalchemy.engine.Engine:INSERT INTO users (name, fullname, age) VALUES (?, ?, ?) RETURNING id\n"
          ]
        },
        {
          "output_type": "stream",
          "name": "stdout",
          "text": [
            "2023-09-24 03:11:42,564 INFO sqlalchemy.engine.Engine [insertmanyvalues 7/9 (ordered; batch not supported)] ('Cássia', 'Cássia Prado', 37)\n"
          ]
        },
        {
          "output_type": "stream",
          "name": "stderr",
          "text": [
            "INFO:sqlalchemy.engine.Engine:[insertmanyvalues 7/9 (ordered; batch not supported)] ('Cássia', 'Cássia Prado', 37)\n"
          ]
        },
        {
          "output_type": "stream",
          "name": "stdout",
          "text": [
            "2023-09-24 03:11:42,566 INFO sqlalchemy.engine.Engine INSERT INTO users (name, fullname, age) VALUES (?, ?, ?) RETURNING id\n"
          ]
        },
        {
          "output_type": "stream",
          "name": "stderr",
          "text": [
            "INFO:sqlalchemy.engine.Engine:INSERT INTO users (name, fullname, age) VALUES (?, ?, ?) RETURNING id\n"
          ]
        },
        {
          "output_type": "stream",
          "name": "stdout",
          "text": [
            "2023-09-24 03:11:42,588 INFO sqlalchemy.engine.Engine [insertmanyvalues 8/9 (ordered; batch not supported)] ('Eunice', 'Eunice Maria', 60)\n"
          ]
        },
        {
          "output_type": "stream",
          "name": "stderr",
          "text": [
            "INFO:sqlalchemy.engine.Engine:[insertmanyvalues 8/9 (ordered; batch not supported)] ('Eunice', 'Eunice Maria', 60)\n"
          ]
        },
        {
          "output_type": "stream",
          "name": "stdout",
          "text": [
            "2023-09-24 03:11:42,590 INFO sqlalchemy.engine.Engine INSERT INTO users (name, fullname, age) VALUES (?, ?, ?) RETURNING id\n"
          ]
        },
        {
          "output_type": "stream",
          "name": "stderr",
          "text": [
            "INFO:sqlalchemy.engine.Engine:INSERT INTO users (name, fullname, age) VALUES (?, ?, ?) RETURNING id\n"
          ]
        },
        {
          "output_type": "stream",
          "name": "stdout",
          "text": [
            "2023-09-24 03:11:42,591 INFO sqlalchemy.engine.Engine [insertmanyvalues 9/9 (ordered; batch not supported)] ('Francisca', 'Francisca Moreira', 52)\n"
          ]
        },
        {
          "output_type": "stream",
          "name": "stderr",
          "text": [
            "INFO:sqlalchemy.engine.Engine:[insertmanyvalues 9/9 (ordered; batch not supported)] ('Francisca', 'Francisca Moreira', 52)\n"
          ]
        },
        {
          "output_type": "stream",
          "name": "stdout",
          "text": [
            "2023-09-24 03:11:42,594 INFO sqlalchemy.engine.Engine COMMIT\n"
          ]
        },
        {
          "output_type": "stream",
          "name": "stderr",
          "text": [
            "INFO:sqlalchemy.engine.Engine:COMMIT\n"
          ]
        }
      ]
    },
    {
      "cell_type": "markdown",
      "source": [
        "## **Consultar objetos (SELECT)**\n"
      ],
      "metadata": {
        "id": "GPu-x_-RSK2A"
      }
    },
    {
      "cell_type": "code",
      "source": [
        "query_user = session.query(User).filter_by(name='Enzo').first()"
      ],
      "metadata": {
        "id": "6g4GwDEhSbKX"
      },
      "execution_count": null,
      "outputs": []
    },
    {
      "cell_type": "code",
      "source": [
        "query_user.fullname"
      ],
      "metadata": {
        "colab": {
          "base_uri": "https://localhost:8080/",
          "height": 35
        },
        "id": "iVvA0AW7SuBh",
        "outputId": "e934090a-786b-419f-a390-4d568d168a7c"
      },
      "execution_count": 55,
      "outputs": [
        {
          "output_type": "execute_result",
          "data": {
            "text/plain": [
              "'Francisco Enzo'"
            ],
            "application/vnd.google.colaboratory.intrinsic+json": {
              "type": "string"
            }
          },
          "metadata": {},
          "execution_count": 55
        }
      ]
    },
    {
      "cell_type": "code",
      "source": [
        "query_user.id"
      ],
      "metadata": {
        "colab": {
          "base_uri": "https://localhost:8080/"
        },
        "id": "z8OndHIoS-mn",
        "outputId": "c2948729-d8b1-43f9-8c7d-a14fed273940"
      },
      "execution_count": 56,
      "outputs": [
        {
          "output_type": "execute_result",
          "data": {
            "text/plain": [
              "1"
            ]
          },
          "metadata": {},
          "execution_count": 56
        }
      ]
    },
    {
      "cell_type": "code",
      "source": [
        "for instance in session.query(User).order_by(User.id):\n",
        "    print(instance.name, instance.fullname)"
      ],
      "metadata": {
        "colab": {
          "base_uri": "https://localhost:8080/"
        },
        "id": "48NTszW4TFL3",
        "outputId": "76951ebf-8324-414e-c910-f904a9e907ce"
      },
      "execution_count": 65,
      "outputs": [
        {
          "output_type": "stream",
          "name": "stdout",
          "text": [
            "2023-09-24 04:09:56,862 INFO sqlalchemy.engine.Engine SELECT users.id AS users_id, users.name AS users_name, users.fullname AS users_fullname, users.age AS users_age \n",
            "FROM users ORDER BY users.id\n"
          ]
        },
        {
          "output_type": "stream",
          "name": "stderr",
          "text": [
            "INFO:sqlalchemy.engine.Engine:SELECT users.id AS users_id, users.name AS users_name, users.fullname AS users_fullname, users.age AS users_age \n",
            "FROM users ORDER BY users.id\n"
          ]
        },
        {
          "output_type": "stream",
          "name": "stdout",
          "text": [
            "2023-09-24 04:09:56,865 INFO sqlalchemy.engine.Engine [cached since 1276s ago] ()\n"
          ]
        },
        {
          "output_type": "stream",
          "name": "stderr",
          "text": [
            "INFO:sqlalchemy.engine.Engine:[cached since 1276s ago] ()\n"
          ]
        },
        {
          "output_type": "stream",
          "name": "stdout",
          "text": [
            "Enzo Francisco Enzo\n",
            "Valentina Maria Valentina\n",
            "Antonio Antonio da Paixão\n",
            "Alice Alice Maria Cruz\n",
            "Carlos Carlos Peixoto\n",
            "Virgínia Virgínia Amaranto\n",
            "Claudionor Claudionor Augusto\n",
            "Cássia Cássia Prado\n",
            "Eunice Eunice Maria\n",
            "Francisca Francisca Moreira\n"
          ]
        }
      ]
    },
    {
      "cell_type": "code",
      "source": [
        "for info in session.query(User.name, User.age).filter_by(name='Enzo'):\n",
        "    print(info)"
      ],
      "metadata": {
        "colab": {
          "base_uri": "https://localhost:8080/"
        },
        "id": "vBJFxqRYT3xS",
        "outputId": "878c8b19-9e68-4a9b-f482-2e0020ebc9e9"
      },
      "execution_count": 63,
      "outputs": [
        {
          "output_type": "stream",
          "name": "stdout",
          "text": [
            "2023-09-24 04:09:44,091 INFO sqlalchemy.engine.Engine SELECT users.name AS users_name, users.age AS users_age \n",
            "FROM users \n",
            "WHERE users.name = ?\n"
          ]
        },
        {
          "output_type": "stream",
          "name": "stderr",
          "text": [
            "INFO:sqlalchemy.engine.Engine:SELECT users.name AS users_name, users.age AS users_age \n",
            "FROM users \n",
            "WHERE users.name = ?\n"
          ]
        },
        {
          "output_type": "stream",
          "name": "stdout",
          "text": [
            "2023-09-24 04:09:44,094 INFO sqlalchemy.engine.Engine [cached since 991.9s ago] ('Valentina',)\n"
          ]
        },
        {
          "output_type": "stream",
          "name": "stderr",
          "text": [
            "INFO:sqlalchemy.engine.Engine:[cached since 991.9s ago] ('Valentina',)\n"
          ]
        },
        {
          "output_type": "stream",
          "name": "stdout",
          "text": [
            "('Valentina', 23)\n"
          ]
        }
      ]
    },
    {
      "cell_type": "markdown",
      "source": [
        "## **Modificar Objetos(UPDATE)**\n"
      ],
      "metadata": {
        "id": "dNImWGuIXRLf"
      }
    },
    {
      "cell_type": "code",
      "source": [
        "user.fullname\n"
      ],
      "metadata": {
        "colab": {
          "base_uri": "https://localhost:8080/",
          "height": 35
        },
        "id": "urxYTtGgXhfh",
        "outputId": "27fbd07e-d5df-4f84-8c33-6c02a64e62a4"
      },
      "execution_count": 66,
      "outputs": [
        {
          "output_type": "execute_result",
          "data": {
            "text/plain": [
              "'Francisco Enzo'"
            ],
            "application/vnd.google.colaboratory.intrinsic+json": {
              "type": "string"
            }
          },
          "metadata": {},
          "execution_count": 66
        }
      ]
    },
    {
      "cell_type": "code",
      "source": [
        "user.fullname = 'Francisco Enzo Sousa'"
      ],
      "metadata": {
        "id": "w91oJzqdZRfC"
      },
      "execution_count": 67,
      "outputs": []
    },
    {
      "cell_type": "code",
      "source": [
        "user"
      ],
      "metadata": {
        "colab": {
          "base_uri": "https://localhost:8080/"
        },
        "id": "ERKS-lDOZeRq",
        "outputId": "fd3bd5b3-58b5-46da-bbf8-a909e4915ec0"
      },
      "execution_count": 68,
      "outputs": [
        {
          "output_type": "execute_result",
          "data": {
            "text/plain": [
              "<User(name=Enzo, fullname=Francisco Enzo Sousa, age=20)>"
            ]
          },
          "metadata": {},
          "execution_count": 68
        }
      ]
    },
    {
      "cell_type": "code",
      "source": [
        "session.dirty"
      ],
      "metadata": {
        "id": "mWQJlMogZowz"
      },
      "execution_count": null,
      "outputs": []
    },
    {
      "cell_type": "code",
      "source": [
        "session.commit()"
      ],
      "metadata": {
        "colab": {
          "base_uri": "https://localhost:8080/"
        },
        "id": "Pm-VmGbVZuDK",
        "outputId": "ec2fa178-cd12-4f44-b50f-4f4d0ad58856"
      },
      "execution_count": 69,
      "outputs": [
        {
          "output_type": "stream",
          "name": "stdout",
          "text": [
            "2023-09-24 04:16:26,831 INFO sqlalchemy.engine.Engine UPDATE users SET fullname=? WHERE users.id = ?\n"
          ]
        },
        {
          "output_type": "stream",
          "name": "stderr",
          "text": [
            "INFO:sqlalchemy.engine.Engine:UPDATE users SET fullname=? WHERE users.id = ?\n"
          ]
        },
        {
          "output_type": "stream",
          "name": "stdout",
          "text": [
            "2023-09-24 04:16:26,834 INFO sqlalchemy.engine.Engine [generated in 0.00323s] ('Francisco Enzo Sousa', 1)\n"
          ]
        },
        {
          "output_type": "stream",
          "name": "stderr",
          "text": [
            "INFO:sqlalchemy.engine.Engine:[generated in 0.00323s] ('Francisco Enzo Sousa', 1)\n"
          ]
        },
        {
          "output_type": "stream",
          "name": "stdout",
          "text": [
            "2023-09-24 04:16:26,841 INFO sqlalchemy.engine.Engine COMMIT\n"
          ]
        },
        {
          "output_type": "stream",
          "name": "stderr",
          "text": [
            "INFO:sqlalchemy.engine.Engine:COMMIT\n"
          ]
        }
      ]
    },
    {
      "cell_type": "markdown",
      "source": [
        "## **Deletar objetos (DELETE)**"
      ],
      "metadata": {
        "id": "VylFUgn1nZ96"
      }
    },
    {
      "cell_type": "code",
      "source": [
        "user = session.query(User).filter_by(name='Valentina').first()"
      ],
      "metadata": {
        "colab": {
          "base_uri": "https://localhost:8080/"
        },
        "id": "lu9U3rdlnvUA",
        "outputId": "a4d72cae-5b5b-4224-8a9e-f91bb4b385fd"
      },
      "execution_count": 70,
      "outputs": [
        {
          "output_type": "stream",
          "name": "stdout",
          "text": [
            "2023-09-24 05:18:39,272 INFO sqlalchemy.engine.Engine BEGIN (implicit)\n"
          ]
        },
        {
          "output_type": "stream",
          "name": "stderr",
          "text": [
            "INFO:sqlalchemy.engine.Engine:BEGIN (implicit)\n"
          ]
        },
        {
          "output_type": "stream",
          "name": "stdout",
          "text": [
            "2023-09-24 05:18:39,276 INFO sqlalchemy.engine.Engine SELECT users.id AS users_id, users.name AS users_name, users.fullname AS users_fullname, users.age AS users_age \n",
            "FROM users \n",
            "WHERE users.name = ?\n",
            " LIMIT ? OFFSET ?\n"
          ]
        },
        {
          "output_type": "stream",
          "name": "stderr",
          "text": [
            "INFO:sqlalchemy.engine.Engine:SELECT users.id AS users_id, users.name AS users_name, users.fullname AS users_fullname, users.age AS users_age \n",
            "FROM users \n",
            "WHERE users.name = ?\n",
            " LIMIT ? OFFSET ?\n"
          ]
        },
        {
          "output_type": "stream",
          "name": "stdout",
          "text": [
            "2023-09-24 05:18:39,278 INFO sqlalchemy.engine.Engine [cached since 5593s ago] ('Valentina', 1, 0)\n"
          ]
        },
        {
          "output_type": "stream",
          "name": "stderr",
          "text": [
            "INFO:sqlalchemy.engine.Engine:[cached since 5593s ago] ('Valentina', 1, 0)\n"
          ]
        }
      ]
    },
    {
      "cell_type": "code",
      "source": [
        "user"
      ],
      "metadata": {
        "colab": {
          "base_uri": "https://localhost:8080/"
        },
        "id": "odPkxUngoC5k",
        "outputId": "b9f26df7-7f2a-4179-d25f-d78c53c284ac"
      },
      "execution_count": 71,
      "outputs": [
        {
          "output_type": "execute_result",
          "data": {
            "text/plain": [
              "<User(name=Valentina, fullname=Maria Valentina, age=23)>"
            ]
          },
          "metadata": {},
          "execution_count": 71
        }
      ]
    },
    {
      "cell_type": "code",
      "source": [
        "session.delete(user)"
      ],
      "metadata": {
        "id": "05ZG5AnxoHl6"
      },
      "execution_count": 72,
      "outputs": []
    },
    {
      "cell_type": "code",
      "source": [
        "session.commit()"
      ],
      "metadata": {
        "colab": {
          "base_uri": "https://localhost:8080/"
        },
        "id": "oWP3j-o7oNth",
        "outputId": "9d6587d0-90aa-4cf2-f756-203c83990136"
      },
      "execution_count": 73,
      "outputs": [
        {
          "output_type": "stream",
          "name": "stdout",
          "text": [
            "2023-09-24 05:19:44,908 INFO sqlalchemy.engine.Engine DELETE FROM users WHERE users.id = ?\n"
          ]
        },
        {
          "output_type": "stream",
          "name": "stderr",
          "text": [
            "INFO:sqlalchemy.engine.Engine:DELETE FROM users WHERE users.id = ?\n"
          ]
        },
        {
          "output_type": "stream",
          "name": "stdout",
          "text": [
            "2023-09-24 05:19:44,911 INFO sqlalchemy.engine.Engine [generated in 0.00321s] (2,)\n"
          ]
        },
        {
          "output_type": "stream",
          "name": "stderr",
          "text": [
            "INFO:sqlalchemy.engine.Engine:[generated in 0.00321s] (2,)\n"
          ]
        },
        {
          "output_type": "stream",
          "name": "stdout",
          "text": [
            "2023-09-24 05:19:44,913 INFO sqlalchemy.engine.Engine COMMIT\n"
          ]
        },
        {
          "output_type": "stream",
          "name": "stderr",
          "text": [
            "INFO:sqlalchemy.engine.Engine:COMMIT\n"
          ]
        }
      ]
    },
    {
      "cell_type": "code",
      "source": [
        "user = session.query(User).filter_by(name = 'valentina').count()"
      ],
      "metadata": {
        "colab": {
          "base_uri": "https://localhost:8080/"
        },
        "id": "aNVHpGZjoumT",
        "outputId": "8056ee1f-35da-4ac9-c4e4-0e79f5d396ad"
      },
      "execution_count": 74,
      "outputs": [
        {
          "output_type": "stream",
          "name": "stdout",
          "text": [
            "2023-09-24 05:23:03,753 INFO sqlalchemy.engine.Engine BEGIN (implicit)\n"
          ]
        },
        {
          "output_type": "stream",
          "name": "stderr",
          "text": [
            "INFO:sqlalchemy.engine.Engine:BEGIN (implicit)\n"
          ]
        },
        {
          "output_type": "stream",
          "name": "stdout",
          "text": [
            "2023-09-24 05:23:03,760 INFO sqlalchemy.engine.Engine SELECT count(*) AS count_1 \n",
            "FROM (SELECT users.id AS users_id, users.name AS users_name, users.fullname AS users_fullname, users.age AS users_age \n",
            "FROM users \n",
            "WHERE users.name = ?) AS anon_1\n"
          ]
        },
        {
          "output_type": "stream",
          "name": "stderr",
          "text": [
            "INFO:sqlalchemy.engine.Engine:SELECT count(*) AS count_1 \n",
            "FROM (SELECT users.id AS users_id, users.name AS users_name, users.fullname AS users_fullname, users.age AS users_age \n",
            "FROM users \n",
            "WHERE users.name = ?) AS anon_1\n"
          ]
        },
        {
          "output_type": "stream",
          "name": "stdout",
          "text": [
            "2023-09-24 05:23:03,764 INFO sqlalchemy.engine.Engine [generated in 0.00380s] ('valentina',)\n"
          ]
        },
        {
          "output_type": "stream",
          "name": "stderr",
          "text": [
            "INFO:sqlalchemy.engine.Engine:[generated in 0.00380s] ('valentina',)\n"
          ]
        }
      ]
    }
  ]
}